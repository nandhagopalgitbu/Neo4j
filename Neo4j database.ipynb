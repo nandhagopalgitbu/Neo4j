{
 "cells": [
  {
   "cell_type": "code",
   "execution_count": 1,
   "metadata": {
    "ExecuteTime": {
     "end_time": "2020-05-29T08:18:33.048827Z",
     "start_time": "2020-05-29T08:18:25.677053Z"
    }
   },
   "outputs": [],
   "source": [
    "import numpy as np\n",
    "import pandas as pd\n"
   ]
  },
  {
   "cell_type": "code",
   "execution_count": 2,
   "metadata": {
    "ExecuteTime": {
     "end_time": "2020-05-29T08:18:33.989231Z",
     "start_time": "2020-05-29T08:18:33.048827Z"
    }
   },
   "outputs": [],
   "source": [
    "bc=pd.read_excel('ENTITY BUS COMPANY.xlsx')"
   ]
  },
  {
   "cell_type": "code",
   "execution_count": 3,
   "metadata": {
    "ExecuteTime": {
     "end_time": "2020-05-29T08:18:40.801066Z",
     "start_time": "2020-05-29T08:18:40.775941Z"
    }
   },
   "outputs": [],
   "source": [
    "bc['contact number']=bc['contact number'].astype('str')"
   ]
  },
  {
   "cell_type": "code",
   "execution_count": 4,
   "metadata": {
    "ExecuteTime": {
     "end_time": "2020-05-29T08:18:42.581117Z",
     "start_time": "2020-05-29T08:18:42.284294Z"
    }
   },
   "outputs": [
    {
     "data": {
      "text/html": [
       "<div>\n",
       "<style scoped>\n",
       "    .dataframe tbody tr th:only-of-type {\n",
       "        vertical-align: middle;\n",
       "    }\n",
       "\n",
       "    .dataframe tbody tr th {\n",
       "        vertical-align: top;\n",
       "    }\n",
       "\n",
       "    .dataframe thead th {\n",
       "        text-align: right;\n",
       "    }\n",
       "</style>\n",
       "<table border=\"1\" class=\"dataframe\">\n",
       "  <thead>\n",
       "    <tr style=\"text-align: right;\">\n",
       "      <th></th>\n",
       "      <th>Name</th>\n",
       "      <th>ID</th>\n",
       "      <th>Email</th>\n",
       "      <th>contact number</th>\n",
       "      <th>Address</th>\n",
       "    </tr>\n",
       "  </thead>\n",
       "  <tbody>\n",
       "    <tr>\n",
       "      <th>0</th>\n",
       "      <td>Yellow Buses Limited</td>\n",
       "      <td>YBL</td>\n",
       "      <td>wecanhelp@yellowbuses.co.uk</td>\n",
       "      <td>01202 636 110</td>\n",
       "      <td>Avenue Rd, Bournemouth BH2 5SL</td>\n",
       "    </tr>\n",
       "    <tr>\n",
       "      <th>1</th>\n",
       "      <td>More Buses Limited</td>\n",
       "      <td>MBL</td>\n",
       "      <td>connect@morebuses.co.uk</td>\n",
       "      <td>01202 338 420</td>\n",
       "      <td>Poole, BH15 1SN</td>\n",
       "    </tr>\n",
       "    <tr>\n",
       "      <th>2</th>\n",
       "      <td>Uni Buses</td>\n",
       "      <td>BUB</td>\n",
       "      <td>support@unibuses.co.uk</td>\n",
       "      <td>01202 338 420</td>\n",
       "      <td>Fern Barrow, Wallisdown, Poole BH12 5BB</td>\n",
       "    </tr>\n",
       "    <tr>\n",
       "      <th>3</th>\n",
       "      <td>South coast Travels</td>\n",
       "      <td>SCT</td>\n",
       "      <td>sct@southcoasttravel.co.uk</td>\n",
       "      <td>01202 530 200</td>\n",
       "      <td>Throop Business park, Throop Rd, Bournemouth B...</td>\n",
       "    </tr>\n",
       "  </tbody>\n",
       "</table>\n",
       "</div>"
      ],
      "text/plain": [
       "                   Name   ID                        Email contact number  \\\n",
       "0  Yellow Buses Limited  YBL  wecanhelp@yellowbuses.co.uk  01202 636 110   \n",
       "1    More Buses Limited  MBL      connect@morebuses.co.uk  01202 338 420   \n",
       "2             Uni Buses  BUB       support@unibuses.co.uk  01202 338 420   \n",
       "3   South coast Travels  SCT   sct@southcoasttravel.co.uk  01202 530 200   \n",
       "\n",
       "                                             Address  \n",
       "0                     Avenue Rd, Bournemouth BH2 5SL  \n",
       "1                                    Poole, BH15 1SN  \n",
       "2            Fern Barrow, Wallisdown, Poole BH12 5BB  \n",
       "3  Throop Business park, Throop Rd, Bournemouth B...  "
      ]
     },
     "execution_count": 4,
     "metadata": {},
     "output_type": "execute_result"
    }
   ],
   "source": [
    "bc.head()"
   ]
  },
  {
   "cell_type": "code",
   "execution_count": 66,
   "metadata": {
    "ExecuteTime": {
     "end_time": "2020-05-19T10:21:06.117046Z",
     "start_time": "2020-05-19T10:21:06.109108Z"
    },
    "scrolled": true
   },
   "outputs": [
    {
     "name": "stdout",
     "output_type": "stream",
     "text": [
      "CREATE(bc1:BusCompany{bcName:'Yellow Buses Limited',bcId:'YBL',bcEmail:'wecanhelp@yellowbuses.co.uk',bcContactNumber:'01202 636 110',bcAddress:'Avenue Rd, Bournemouth BH2 5SL'})\n",
      "CREATE(bc2:BusCompany{bcName:'More Buses Limited',bcId:'MBL',bcEmail:'connect@morebuses.co.uk',bcContactNumber:'01202 338 420',bcAddress:'Poole, BH15 1SN'})\n",
      "CREATE(bc3:BusCompany{bcName:'Uni Buses',bcId:'BUB',bcEmail:'support@unibuses.co.uk',bcContactNumber:'01202 338 420',bcAddress:'Fern Barrow, Wallisdown, Poole BH12 5BB'})\n",
      "CREATE(bc4:BusCompany{bcName:'South coast Travels',bcId:'SCT',bcEmail:'sct@southcoasttravel.co.uk',bcContactNumber:'01202 530 200',bcAddress:'Throop Business park, Throop Rd, Bournemouth BH8 0DQ'})\n"
     ]
    }
   ],
   "source": [
    "for i in bc.index:\n",
    "    j=str(i+1)\n",
    "    print(\"CREATE(bc\"+j+\":BusCompany{bcName:'\"+bc.iloc[i,0]+\"',bcId:'\"+bc.iloc[i,1]+\"',bcEmail:'\"+bc.iloc[i,2]+\"',bcContactNumber:'\"+bc.iloc[i,3]+\"',bcAddress:'\"+bc.iloc[i,4]+\"'})\")"
   ]
  },
  {
   "cell_type": "code",
   "execution_count": 91,
   "metadata": {
    "ExecuteTime": {
     "end_time": "2020-05-19T13:59:12.676136Z",
     "start_time": "2020-05-19T13:59:12.630427Z"
    }
   },
   "outputs": [],
   "source": [
    "b=pd.read_excel(\"ENTITY BUS.xlsx\")\n"
   ]
  },
  {
   "cell_type": "code",
   "execution_count": 92,
   "metadata": {
    "ExecuteTime": {
     "end_time": "2020-05-19T13:59:13.340550Z",
     "start_time": "2020-05-19T13:59:13.332347Z"
    }
   },
   "outputs": [],
   "source": [
    "b['ServiceEndDate'].fillna(value='NULL',inplace=True)"
   ]
  },
  {
   "cell_type": "code",
   "execution_count": 143,
   "metadata": {
    "ExecuteTime": {
     "end_time": "2020-05-19T15:39:18.118603Z",
     "start_time": "2020-05-19T15:39:18.102959Z"
    }
   },
   "outputs": [],
   "source": [
    "b['ModelYear']=b['ModelYear'].astype('str')\n",
    "b['ServiceStarts']=b['ServiceStarts'].astype('str')\n",
    "b['ServiceEnds']=b['ServiceEnds'].astype('str')\n",
    "b['ServiceStartDate']=b['ServiceStartDate'].astype('str')\n",
    "b['ServiceEndDate']=b['ServiceEndDate'].astype('str')"
   ]
  },
  {
   "cell_type": "code",
   "execution_count": 144,
   "metadata": {
    "ExecuteTime": {
     "end_time": "2020-05-19T15:39:18.730077Z",
     "start_time": "2020-05-19T15:39:18.716112Z"
    }
   },
   "outputs": [
    {
     "data": {
      "text/html": [
       "<div>\n",
       "<style scoped>\n",
       "    .dataframe tbody tr th:only-of-type {\n",
       "        vertical-align: middle;\n",
       "    }\n",
       "\n",
       "    .dataframe tbody tr th {\n",
       "        vertical-align: top;\n",
       "    }\n",
       "\n",
       "    .dataframe thead th {\n",
       "        text-align: right;\n",
       "    }\n",
       "</style>\n",
       "<table border=\"1\" class=\"dataframe\">\n",
       "  <thead>\n",
       "    <tr style=\"text-align: right;\">\n",
       "      <th></th>\n",
       "      <th>BusID</th>\n",
       "      <th>Model</th>\n",
       "      <th>ModelYear</th>\n",
       "      <th>Mileage</th>\n",
       "      <th>ServiceStartDate</th>\n",
       "      <th>ServiceEndDate</th>\n",
       "      <th>ServiceStarts</th>\n",
       "      <th>ServiceEnds</th>\n",
       "      <th>RouteName</th>\n",
       "      <th>BusCompany</th>\n",
       "    </tr>\n",
       "  </thead>\n",
       "  <tbody>\n",
       "    <tr>\n",
       "      <th>0</th>\n",
       "      <td>BUS01</td>\n",
       "      <td>Volvo Caetano Levante</td>\n",
       "      <td>2018</td>\n",
       "      <td>6.7</td>\n",
       "      <td>2018-02-11</td>\n",
       "      <td>NULL</td>\n",
       "      <td>05:00:00</td>\n",
       "      <td>22:00:00</td>\n",
       "      <td>BAvMD</td>\n",
       "      <td>YBL</td>\n",
       "    </tr>\n",
       "    <tr>\n",
       "      <th>1</th>\n",
       "      <td>BUS02</td>\n",
       "      <td>Volvo B12B Plaxton Panther</td>\n",
       "      <td>2016</td>\n",
       "      <td>6</td>\n",
       "      <td>2016-04-23</td>\n",
       "      <td>2019-04-22 00:00:00</td>\n",
       "      <td>05:00:00</td>\n",
       "      <td>22:00:00</td>\n",
       "      <td>BAvMD</td>\n",
       "      <td>MBL</td>\n",
       "    </tr>\n",
       "    <tr>\n",
       "      <th>2</th>\n",
       "      <td>BUS03</td>\n",
       "      <td>Volvo B9R Caetano</td>\n",
       "      <td>2014</td>\n",
       "      <td>5.5</td>\n",
       "      <td>2014-06-02</td>\n",
       "      <td>2017-06-01 00:00:00</td>\n",
       "      <td>05:30:00</td>\n",
       "      <td>22:30:00</td>\n",
       "      <td>BAvMD</td>\n",
       "      <td>BUB</td>\n",
       "    </tr>\n",
       "    <tr>\n",
       "      <th>3</th>\n",
       "      <td>BUS04</td>\n",
       "      <td>CORGI OM46206 Scania</td>\n",
       "      <td>2018</td>\n",
       "      <td>6.8</td>\n",
       "      <td>2018-08-25</td>\n",
       "      <td>NULL</td>\n",
       "      <td>05:30:00</td>\n",
       "      <td>22:30:00</td>\n",
       "      <td>BAvMD</td>\n",
       "      <td>SCT</td>\n",
       "    </tr>\n",
       "    <tr>\n",
       "      <th>4</th>\n",
       "      <td>BUS05</td>\n",
       "      <td>Volvo Wright Eclipse Gemini</td>\n",
       "      <td>2017</td>\n",
       "      <td>6.6</td>\n",
       "      <td>2017-10-01</td>\n",
       "      <td>NULL</td>\n",
       "      <td>05:15:00</td>\n",
       "      <td>22:15:00</td>\n",
       "      <td>BAvBC</td>\n",
       "      <td>MBL</td>\n",
       "    </tr>\n",
       "  </tbody>\n",
       "</table>\n",
       "</div>"
      ],
      "text/plain": [
       "   BusID                        Model ModelYear Mileage ServiceStartDate  \\\n",
       "0  BUS01        Volvo Caetano Levante      2018     6.7       2018-02-11   \n",
       "1  BUS02   Volvo B12B Plaxton Panther      2016       6       2016-04-23   \n",
       "2  BUS03            Volvo B9R Caetano      2014     5.5       2014-06-02   \n",
       "3  BUS04         CORGI OM46206 Scania      2018     6.8       2018-08-25   \n",
       "4  BUS05  Volvo Wright Eclipse Gemini      2017     6.6       2017-10-01   \n",
       "\n",
       "        ServiceEndDate ServiceStarts ServiceEnds RouteName BusCompany  \n",
       "0                 NULL      05:00:00    22:00:00     BAvMD        YBL  \n",
       "1  2019-04-22 00:00:00      05:00:00    22:00:00     BAvMD        MBL  \n",
       "2  2017-06-01 00:00:00      05:30:00    22:30:00     BAvMD        BUB  \n",
       "3                 NULL      05:30:00    22:30:00     BAvMD        SCT  \n",
       "4                 NULL      05:15:00    22:15:00     BAvBC        MBL  "
      ]
     },
     "execution_count": 144,
     "metadata": {},
     "output_type": "execute_result"
    }
   ],
   "source": [
    "b.head()"
   ]
  },
  {
   "cell_type": "code",
   "execution_count": 145,
   "metadata": {
    "ExecuteTime": {
     "end_time": "2020-05-19T15:39:19.921477Z",
     "start_time": "2020-05-19T15:39:19.910533Z"
    }
   },
   "outputs": [
    {
     "name": "stdout",
     "output_type": "stream",
     "text": [
      "CREATE()-[:OPERATES]->(b1:Bus{BusId:'BUS01',Model:'Volvo Caetano Levante',ModelYear:2018,ServiceStarts: Time('05:00:00'),ServiceEnds: Time('22:00:00')})-[:RUNS{ServiceStartDate: Date('2018-02-11'),ServiceEndDate: Date('NULL')}]->(r)<-[:HAVE]-(bc)\n",
      "CREATE()-[:OPERATES]->(b2:Bus{BusId:'BUS02',Model:'Volvo B12B Plaxton Panther',ModelYear:2016,ServiceStarts: Time('05:00:00'),ServiceEnds: Time('22:00:00')})-[:RUNS{ServiceStartDate: Date('2016-04-23'),ServiceEndDate: Date('2019-04-22 00:00:00')}]->(r)<-[:HAVE]-(bc)\n",
      "CREATE()-[:OPERATES]->(b3:Bus{BusId:'BUS03',Model:'Volvo B9R Caetano',ModelYear:2014,ServiceStarts: Time('05:30:00'),ServiceEnds: Time('22:30:00')})-[:RUNS{ServiceStartDate: Date('2014-06-02'),ServiceEndDate: Date('2017-06-01 00:00:00')}]->(r)<-[:HAVE]-(bc)\n",
      "CREATE()-[:OPERATES]->(b4:Bus{BusId:'BUS04',Model:'CORGI OM46206 Scania',ModelYear:2018,ServiceStarts: Time('05:30:00'),ServiceEnds: Time('22:30:00')})-[:RUNS{ServiceStartDate: Date('2018-08-25'),ServiceEndDate: Date('NULL')}]->(r)<-[:HAVE]-(bc)\n",
      "CREATE()-[:OPERATES]->(b5:Bus{BusId:'BUS05',Model:'Volvo Wright Eclipse Gemini',ModelYear:2017,ServiceStarts: Time('05:15:00'),ServiceEnds: Time('22:15:00')})-[:RUNS{ServiceStartDate: Date('2017-10-01'),ServiceEndDate: Date('NULL')}]->(r)<-[:HAVE]-(bc)\n",
      "CREATE()-[:OPERATES]->(b6:Bus{BusId:'BUS06',Model:'Volvo Caetano Levante',ModelYear:2015,ServiceStarts: Time('05:15:00'),ServiceEnds: Time('22:15:00')})-[:RUNS{ServiceStartDate: Date('2015-02-11'),ServiceEndDate: Date('2018-02-10 00:00:00')}]->(r)<-[:HAVE]-(bc)\n",
      "CREATE()-[:OPERATES]->(b7:Bus{BusId:'BUS07',Model:'Volvo B12B Plaxton Panther',ModelYear:2016,ServiceStarts: Time('05:45:00'),ServiceEnds: Time('22:45:00')})-[:RUNS{ServiceStartDate: Date('2016-04-23'),ServiceEndDate: Date('2019-04-22 00:00:00')}]->(r)<-[:HAVE]-(bc)\n",
      "CREATE()-[:OPERATES]->(b8:Bus{BusId:'BUS08',Model:'CORGI OM46206 Scania',ModelYear:2015,ServiceStarts: Time('05:30:00'),ServiceEnds: Time('22:30:00')})-[:RUNS{ServiceStartDate: Date('2015-08-25'),ServiceEndDate: Date('2018-08-24 00:00:00')}]->(r)<-[:HAVE]-(bc)\n",
      "CREATE()-[:OPERATES]->(b9:Bus{BusId:'BUS09',Model:'Volvo MCV EvoSeti',ModelYear:2018,ServiceStarts: Time('06:00:00'),ServiceEnds: Time('23:00:00')})-[:RUNS{ServiceStartDate: Date('2018-12-01'),ServiceEndDate: Date('NULL')}]->(r)<-[:HAVE]-(bc)\n",
      "CREATE()-[:OPERATES]->(b10:Bus{BusId:'BUS10',Model:'Volvo B9R Caetano',ModelYear:2017,ServiceStarts: Time('06:00:00'),ServiceEnds: Time('23:00:00')})-[:RUNS{ServiceStartDate: Date('2017-05-14'),ServiceEndDate: Date('2020-05-13 00:00:00')}]->(r)<-[:HAVE]-(bc)\n",
      "CREATE()-[:OPERATES]->(b11:Bus{BusId:'BUS11',Model:'Volvo Wright Eclipse Gemini',ModelYear:2017,ServiceStarts: Time('05:30:00'),ServiceEnds: Time('22:30:00')})-[:RUNS{ServiceStartDate: Date('2017-10-01'),ServiceEndDate: Date('NULL')}]->(r)<-[:HAVE]-(bc)\n",
      "CREATE()-[:OPERATES]->(b12:Bus{BusId:'BUS12',Model:'Volvo Caetano Levante',ModelYear:2015,ServiceStarts: Time('05:15:00'),ServiceEnds: Time('22:15:00')})-[:RUNS{ServiceStartDate: Date('2015-02-11'),ServiceEndDate: Date('2018-02-10 00:00:00')}]->(r)<-[:HAVE]-(bc)\n",
      "CREATE()-[:OPERATES]->(b13:Bus{BusId:'BUS13',Model:'Volvo MCV EvoSeti',ModelYear:2019,ServiceStarts: Time('05:00:00'),ServiceEnds: Time('22:00:00')})-[:RUNS{ServiceStartDate: Date('2019-11-16'),ServiceEndDate: Date('NULL')}]->(r)<-[:HAVE]-(bc)\n",
      "CREATE()-[:OPERATES]->(b14:Bus{BusId:'BUS14',Model:'CORGI OM46206 Scania',ModelYear:2015,ServiceStarts: Time('05:00:00'),ServiceEnds: Time('22:00:00')})-[:RUNS{ServiceStartDate: Date('2015-08-25'),ServiceEndDate: Date('2018-08-24 00:00:00')}]->(r)<-[:HAVE]-(bc)\n",
      "CREATE()-[:OPERATES]->(b15:Bus{BusId:'BUS15',Model:'Optare Metrodecker',ModelYear:2020,ServiceStarts: Time('05:15:00'),ServiceEnds: Time('22:15:00')})-[:RUNS{ServiceStartDate: Date('2020-01-10'),ServiceEndDate: Date('NULL')}]->(r)<-[:HAVE]-(bc)\n",
      "CREATE()-[:OPERATES]->(b16:Bus{BusId:'BUS16',Model:'Volvo Wright Eclipse Gemini',ModelYear:2019,ServiceStarts: Time('05:30:00'),ServiceEnds: Time('22:30:00')})-[:RUNS{ServiceStartDate: Date('2019-09-20'),ServiceEndDate: Date('NULL')}]->(r)<-[:HAVE]-(bc)\n",
      "CREATE()-[:OPERATES]->(b17:Bus{BusId:'BUS17',Model:'Optare Tempo',ModelYear:2020,ServiceStarts: Time('05:10:00'),ServiceEnds: Time('22:10:00')})-[:RUNS{ServiceStartDate: Date('2020-03-01'),ServiceEndDate: Date('NULL')}]->(r)<-[:HAVE]-(bc)\n",
      "CREATE()-[:OPERATES]->(b18:Bus{BusId:'BUS18',Model:'Volvo B12B Plaxton Panther',ModelYear:2016,ServiceStarts: Time('05:10:00'),ServiceEnds: Time('22:10:00')})-[:RUNS{ServiceStartDate: Date('2016-04-23'),ServiceEndDate: Date('2019-04-22 00:00:00')}]->(r)<-[:HAVE]-(bc)\n",
      "CREATE()-[:OPERATES]->(b19:Bus{BusId:'BUS19',Model:'Optare Metrodecker',ModelYear:2020,ServiceStarts: Time('05:20:00'),ServiceEnds: Time('22:20:00')})-[:RUNS{ServiceStartDate: Date('2020-01-10'),ServiceEndDate: Date('NULL')}]->(r)<-[:HAVE]-(bc)\n",
      "CREATE()-[:OPERATES]->(b20:Bus{BusId:'BUS20',Model:'Optare Tempo',ModelYear:2020,ServiceStarts: Time('05:40:00'),ServiceEnds: Time('22:40:00')})-[:RUNS{ServiceStartDate: Date('2020-03-01'),ServiceEndDate: Date('NULL')}]->(r)<-[:HAVE]-(bc)\n",
      "CREATE()-[:OPERATES]->(b21:Bus{BusId:'BUS21',Model:'Volvo Caetano Levante',ModelYear:2018,ServiceStarts: Time('05:00:00'),ServiceEnds: Time('22:00:00')})-[:RUNS{ServiceStartDate: Date('2018-01-28'),ServiceEndDate: Date('NULL')}]->(r)<-[:HAVE]-(bc)\n",
      "CREATE()-[:OPERATES]->(b22:Bus{BusId:'BUS22',Model:'Volvo MCV EvoSeti',ModelYear:2018,ServiceStarts: Time('05:15:00'),ServiceEnds: Time('22:15:00')})-[:RUNS{ServiceStartDate: Date('2018-12-01'),ServiceEndDate: Date('NULL')}]->(r)<-[:HAVE]-(bc)\n",
      "CREATE()-[:OPERATES]->(b23:Bus{BusId:'BUS23',Model:'Volvo B9R Caetano',ModelYear:2014,ServiceStarts: Time('05:15:00'),ServiceEnds: Time('22:15:00')})-[:RUNS{ServiceStartDate: Date('2014-06-04'),ServiceEndDate: Date('2019-06-03 00:00:00')}]->(r)<-[:HAVE]-(bc)\n",
      "CREATE()-[:OPERATES]->(b24:Bus{BusId:'BUS24',Model:'Optare Tempo',ModelYear:2020,ServiceStarts: Time('05:30:00'),ServiceEnds: Time('22:30:00')})-[:RUNS{ServiceStartDate: Date('2020-03-01'),ServiceEndDate: Date('NULL')}]->(r)<-[:HAVE]-(bc)\n",
      "CREATE()-[:OPERATES]->(b25:Bus{BusId:'BUS25',Model:'CORGI OM46206 Scania',ModelYear:2015,ServiceStarts: Time('05:10:00'),ServiceEnds: Time('22:10:00')})-[:RUNS{ServiceStartDate: Date('2015-08-25'),ServiceEndDate: Date('2018-08-24 00:00:00')}]->(r)<-[:HAVE]-(bc)\n",
      "CREATE()-[:OPERATES]->(b26:Bus{BusId:'BUS26',Model:'Optare Metrodecker',ModelYear:2020,ServiceStarts: Time('05:20:00'),ServiceEnds: Time('22:20:00')})-[:RUNS{ServiceStartDate: Date('2020-01-10'),ServiceEndDate: Date('NULL')}]->(r)<-[:HAVE]-(bc)\n",
      "CREATE()-[:OPERATES]->(b27:Bus{BusId:'BUS27',Model:'Volvo Wright Eclipse Gemini',ModelYear:2017,ServiceStarts: Time('05:40:00'),ServiceEnds: Time('22:40:00')})-[:RUNS{ServiceStartDate: Date('2017-10-01'),ServiceEndDate: Date('NULL')}]->(r)<-[:HAVE]-(bc)\n",
      "CREATE()-[:OPERATES]->(b28:Bus{BusId:'BUS28',Model:'Optare Tempo',ModelYear:2020,ServiceStarts: Time('06:00:00'),ServiceEnds: Time('23:00:00')})-[:RUNS{ServiceStartDate: Date('2020-03-01'),ServiceEndDate: Date('NULL')}]->(r)<-[:HAVE]-(bc)\n",
      "CREATE()-[:OPERATES]->(b29:Bus{BusId:'BUS29',Model:'Volvo MCV EvoSeti',ModelYear:2018,ServiceStarts: Time('05:00:00'),ServiceEnds: Time('22:00:00')})-[:RUNS{ServiceStartDate: Date('2018-12-01'),ServiceEndDate: Date('NULL')}]->(r)<-[:HAVE]-(bc)\n",
      "CREATE()-[:OPERATES]->(b30:Bus{BusId:'BUS30',Model:'Volvo Caetano Levante',ModelYear:2015,ServiceStarts: Time('05:00:00'),ServiceEnds: Time('22:00:00')})-[:RUNS{ServiceStartDate: Date('2015-02-11'),ServiceEndDate: Date('2018-02-10 00:00:00')}]->(r)<-[:HAVE]-(bc)\n",
      "CREATE()-[:OPERATES]->(b31:Bus{BusId:'BUS31',Model:'Volvo B9R Caetano',ModelYear:2017,ServiceStarts: Time('05:15:00'),ServiceEnds: Time('22:15:00')})-[:RUNS{ServiceStartDate: Date('2017-05-14'),ServiceEndDate: Date('2020-05-13 00:00:00')}]->(r)<-[:HAVE]-(bc)\n",
      "CREATE()-[:OPERATES]->(b32:Bus{BusId:'BUS32',Model:'Volvo MCV EvoSeti',ModelYear:2018,ServiceStarts: Time('05:15:00'),ServiceEnds: Time('22:15:00')})-[:RUNS{ServiceStartDate: Date('2018-12-11'),ServiceEndDate: Date('NULL')}]->(r)<-[:HAVE]-(bc)\n",
      "CREATE()-[:OPERATES]->(b33:Bus{BusId:'BUS33',Model:'Optare Metrodecker',ModelYear:2020,ServiceStarts: Time('05:30:00'),ServiceEnds: Time('22:30:00')})-[:RUNS{ServiceStartDate: Date('2020-03-01'),ServiceEndDate: Date('NULL')}]->(r)<-[:HAVE]-(bc)\n",
      "CREATE()-[:OPERATES]->(b34:Bus{BusId:'BUS34',Model:'CORGI OM46206 Scania',ModelYear:2015,ServiceStarts: Time('05:30:00'),ServiceEnds: Time('22:30:00')})-[:RUNS{ServiceStartDate: Date('2015-08-25'),ServiceEndDate: Date('2018-08-24 00:00:00')}]->(r)<-[:HAVE]-(bc)\n",
      "CREATE()-[:OPERATES]->(b35:Bus{BusId:'BUS35',Model:'Optare Tempo',ModelYear:2020,ServiceStarts: Time('05:10:00'),ServiceEnds: Time('22:10:00')})-[:RUNS{ServiceStartDate: Date('2020-03-01'),ServiceEndDate: Date('NULL')}]->(r)<-[:HAVE]-(bc)\n",
      "CREATE()-[:OPERATES]->(b36:Bus{BusId:'BUS36',Model:'Optare Metrodecker',ModelYear:2020,ServiceStarts: Time('05:25:00'),ServiceEnds: Time('22:25:00')})-[:RUNS{ServiceStartDate: Date('2020-10-10'),ServiceEndDate: Date('NULL')}]->(r)<-[:HAVE]-(bc)\n",
      "CREATE()-[:OPERATES]->(b37:Bus{BusId:'BUS37',Model:'Volvo B12B Plaxton Panther',ModelYear:2019,ServiceStarts: Time('05:00:00'),ServiceEnds: Time('22:00:00')})-[:RUNS{ServiceStartDate: Date('2019-03-14'),ServiceEndDate: Date('NULL')}]->(r)<-[:HAVE]-(bc)\n",
      "CREATE()-[:OPERATES]->(b38:Bus{BusId:'BUS38',Model:'Volvo Wright Eclipse Gemini',ModelYear:2017,ServiceStarts: Time('05:20:00'),ServiceEnds: Time('22:20:00')})-[:RUNS{ServiceStartDate: Date('2017-10-01'),ServiceEndDate: Date('NULL')}]->(r)<-[:HAVE]-(bc)\n",
      "CREATE()-[:OPERATES]->(b39:Bus{BusId:'BUS39',Model:'Volvo MCV EvoSeti',ModelYear:2019,ServiceStarts: Time('05:40:00'),ServiceEnds: Time('22:40:00')})-[:RUNS{ServiceStartDate: Date('2019-11-25'),ServiceEndDate: Date('NULL')}]->(r)<-[:HAVE]-(bc)\n",
      "CREATE()-[:OPERATES]->(b40:Bus{BusId:'BUS40',Model:'Volvo B9R Caetano',ModelYear:2014,ServiceStarts: Time('05:40:00'),ServiceEnds: Time('22:40:00')})-[:RUNS{ServiceStartDate: Date('2014-06-04'),ServiceEndDate: Date('2017-06-03 00:00:00')}]->(r)<-[:HAVE]-(bc)\n"
     ]
    }
   ],
   "source": [
    "for i in b.index:\n",
    "    j=str(i+1)\n",
    "    print(\"CREATE()-[:OPERATES]->(b\"+j+\":Bus{BusId:'\"+b.iloc[i,0]+\"',Model:'\"+b.iloc[i,1]+\"',ModelYear:\"+b.iloc[i,2]+\",ServiceStarts: Time('\"+b.iloc[i,6]+\"'),ServiceEnds: Time('\"+b.iloc[i,7]+\"')})-[:RUNS{ServiceStartDate: Date('\"+b.iloc[i,4]+\"'),ServiceEndDate: Date('\"+b.iloc[i,5]+\"')}]->(r)<-[:HAVE]-(bc)\")"
   ]
  },
  {
   "cell_type": "code",
   "execution_count": 123,
   "metadata": {
    "ExecuteTime": {
     "end_time": "2020-05-19T14:43:13.929655Z",
     "start_time": "2020-05-19T14:43:13.910976Z"
    }
   },
   "outputs": [],
   "source": [
    "bs=pd.read_excel('ENTITY BUS STOP.xlsx')"
   ]
  },
  {
   "cell_type": "code",
   "execution_count": 124,
   "metadata": {
    "ExecuteTime": {
     "end_time": "2020-05-19T14:43:15.147270Z",
     "start_time": "2020-05-19T14:43:14.662505Z"
    }
   },
   "outputs": [
    {
     "data": {
      "text/html": [
       "<div>\n",
       "<style scoped>\n",
       "    .dataframe tbody tr th:only-of-type {\n",
       "        vertical-align: middle;\n",
       "    }\n",
       "\n",
       "    .dataframe tbody tr th {\n",
       "        vertical-align: top;\n",
       "    }\n",
       "\n",
       "    .dataframe thead th {\n",
       "        text-align: right;\n",
       "    }\n",
       "</style>\n",
       "<table border=\"1\" class=\"dataframe\">\n",
       "  <thead>\n",
       "    <tr style=\"text-align: right;\">\n",
       "      <th></th>\n",
       "      <th>BusStop Name</th>\n",
       "      <th>bsType</th>\n",
       "      <th>bsCorordinate</th>\n",
       "      <th>address</th>\n",
       "    </tr>\n",
       "  </thead>\n",
       "  <tbody>\n",
       "    <tr>\n",
       "      <th>0</th>\n",
       "      <td>Bournemouth Square</td>\n",
       "      <td>In-Lane</td>\n",
       "      <td>50.7202° N, 1.8786° W</td>\n",
       "      <td>The Square, Bournemouth,BH2 6ED</td>\n",
       "    </tr>\n",
       "    <tr>\n",
       "      <th>1</th>\n",
       "      <td>Bournemouth Bus Station</td>\n",
       "      <td>In-Lane</td>\n",
       "      <td>50.7272° N, 1.8641° W</td>\n",
       "      <td>Boscombe, Bournemouth BH8 8DL</td>\n",
       "    </tr>\n",
       "    <tr>\n",
       "      <th>2</th>\n",
       "      <td>Winton</td>\n",
       "      <td>On-Street</td>\n",
       "      <td>50.7402° N, 1.8885° W</td>\n",
       "      <td>Winton, Bournemouth BH9 2HJ</td>\n",
       "    </tr>\n",
       "    <tr>\n",
       "      <th>3</th>\n",
       "      <td>Moordown</td>\n",
       "      <td>Median</td>\n",
       "      <td>50.7546° N, 1.8751° W</td>\n",
       "      <td>Old St Johns Mews, Moordown, Bournemouth BH9 2BH</td>\n",
       "    </tr>\n",
       "    <tr>\n",
       "      <th>4</th>\n",
       "      <td>Westover Retail park</td>\n",
       "      <td>On-Street</td>\n",
       "      <td>50.7600° N, 1.8722° W</td>\n",
       "      <td>Bournemouth BH9 2UB</td>\n",
       "    </tr>\n",
       "  </tbody>\n",
       "</table>\n",
       "</div>"
      ],
      "text/plain": [
       "              BusStop Name     bsType          bsCorordinate  \\\n",
       "0       Bournemouth Square    In-Lane  50.7202° N, 1.8786° W   \n",
       "1  Bournemouth Bus Station    In-Lane  50.7272° N, 1.8641° W   \n",
       "2                   Winton  On-Street  50.7402° N, 1.8885° W   \n",
       "3                 Moordown     Median  50.7546° N, 1.8751° W   \n",
       "4     Westover Retail park  On-Street  50.7600° N, 1.8722° W   \n",
       "\n",
       "                                             address  \n",
       "0                    The Square, Bournemouth,BH2 6ED  \n",
       "1                      Boscombe, Bournemouth BH8 8DL  \n",
       "2                        Winton, Bournemouth BH9 2HJ  \n",
       "3   Old St Johns Mews, Moordown, Bournemouth BH9 2BH  \n",
       "4                                Bournemouth BH9 2UB  "
      ]
     },
     "execution_count": 124,
     "metadata": {},
     "output_type": "execute_result"
    }
   ],
   "source": [
    "bs.head()"
   ]
  },
  {
   "cell_type": "code",
   "execution_count": 125,
   "metadata": {
    "ExecuteTime": {
     "end_time": "2020-05-19T14:43:20.383451Z",
     "start_time": "2020-05-19T14:43:20.369943Z"
    },
    "scrolled": false
   },
   "outputs": [
    {
     "name": "stdout",
     "output_type": "stream",
     "text": [
      "CREATE(bs1:BusStop{bsName:'Bournemouth Square',BStype:'In-Lane',bsCoordinates:'50.7202° N, 1.8786° W',bsAddress:'The Square, Bournemouth,BH2 6ED'})\n",
      "CREATE(bs2:BusStop{bsName:'Bournemouth Bus Station',BStype:'In-Lane',bsCoordinates:'50.7272° N, 1.8641° W',bsAddress:'Boscombe, Bournemouth BH8 8DL'})\n",
      "CREATE(bs3:BusStop{bsName:'Winton',BStype:'On-Street',bsCoordinates:'50.7402° N, 1.8885° W',bsAddress:'Winton, Bournemouth BH9 2HJ'})\n",
      "CREATE(bs4:BusStop{bsName:'Moordown',BStype:'Median',bsCoordinates:'50.7546° N, 1.8751° W',bsAddress:' Old St Johns Mews, Moordown, Bournemouth BH9 2BH'})\n",
      "CREATE(bs5:BusStop{bsName:'Westover Retail park',BStype:'On-Street',bsCoordinates:'50.7600° N, 1.8722° W',bsAddress:'Bournemouth BH9 2UB'})\n",
      "CREATE(bs6:BusStop{bsName:'Northbourne',BStype:'On-Street',bsCoordinates:'51.2211° N, 1.3397° E',bsAddress:' Bournemouth BH10 4EP'})\n",
      "CREATE(bs7:BusStop{bsName:'Chapel Gate',BStype:'On-Street',bsCoordinates:'51.2697° N, 1.0930° W',bsAddress:'West Parley, Ferndown BH22 8EF'})\n",
      "CREATE(bs8:BusStop{bsName:'Bournemouth Airport',BStype:'In-Lane',bsCoordinates:'50.7775° N, 1.8323° W',bsAddress:'Christchurch BH23 6DL'})\n",
      "CREATE(bs9:BusStop{bsName:'Boscombe',BStype:'Median',bsCoordinates:'50.7236° N, 1.8485° W',bsAddress:'Ashley Rd, Bournemouth BH1 4LE'})\n",
      "CREATE(bs10:BusStop{bsName:'Charminster',BStype:'Median',bsCoordinates:'50.7315° N, 2.4531° W',bsAddress:'Bournemouth BH8 8UX'})\n",
      "CREATE(bs11:BusStop{bsName:'BU talbot campus',BStype:'In-Lane',bsCoordinates:'50.7424° N, 1.8961° W',bsAddress:'Poole BH12 5BB'})\n",
      "CREATE(bs12:BusStop{bsName:'Wallisdown',BStype:'Median',bsCoordinates:'50.7415° N, 1.8976° W',bsAddress:'Poole BH12 5HG'})\n",
      "CREATE(bs13:BusStop{bsName:'West Howe',BStype:'On-Street',bsCoordinates:'50.7577° N, 1.9106° W',bsAddress:'Bournemouth BH11 9HG'})\n",
      "CREATE(bs14:BusStop{bsName:'Kinson',BStype:'Median',bsCoordinates:'50.7697° N, 1.9014° W',bsAddress:'Bournemouth BH10 7DW'})\n",
      "CREATE(bs15:BusStop{bsName:'Ensbury Park',BStype:'On-Street',bsCoordinates:'50.7505° N, 1.8882° W',bsAddress:'Bournemouth BH10 4EA'})\n",
      "CREATE(bs16:BusStop{bsName:'East Howe',BStype:'On-Street',bsCoordinates:'50.7569° N, 1.9014° W',bsAddress:'Bournemouth BH10 5JL'})\n",
      "CREATE(bs17:BusStop{bsName:'Pokesdown',BStype:'On-Street',bsCoordinates:'50.7289° N, 1.8250° W',bsAddress:'Bournemouth BH5 2JZ'})\n",
      "CREATE(bs18:BusStop{bsName:'Iford',BStype:'Median',bsCoordinates:'51.5566° N, 0.0763° E',bsAddress:'Bournemouth BH7 6EE'})\n",
      "CREATE(bs19:BusStop{bsName:'Christchruch',BStype:'In-Lane',bsCoordinates:'43.5321° S, 172.6362° E',bsAddress:'Christchurch BH23 1PL'})\n",
      "CREATE(bs20:BusStop{bsName:'Purewell',BStype:'Median',bsCoordinates:'50.7373° N, 1.7692° W',bsAddress:'Bournemouth BH2 5RG'})\n",
      "CREATE(bs21:BusStop{bsName:'High cliffe',BStype:'On-Street',bsCoordinates:'50.7409° N, 1.7024° W',bsAddress:'Christchurch BH23 5EL'})\n",
      "CREATE(bs22:BusStop{bsName:'New Milton',BStype:'Median',bsCoordinates:'50.7531° N, 1.6551° W',bsAddress:'New Milton BH25 6EB'})\n",
      "CREATE(bs23:BusStop{bsName:'Fishersmans Walk',BStype:'On-Street',bsCoordinates:'50.7268° N, 1.8179° W',bsAddress:'Bournemouth BH6 3RE'})\n",
      "CREATE(bs24:BusStop{bsName:'Southbourne',BStype:'On-Street',bsCoordinates:'50.7223° N, 1.7956° W',bsAddress:' Bournemouth BH6 3DJ'})\n",
      "CREATE(bs25:BusStop{bsName:'Mountbatten',BStype:'On-Street',bsCoordinates:'50.3575° N, 4.1252° W',bsAddress:'Poole BH12 5BA'})\n",
      "CREATE(bs26:BusStop{bsName:'Bearwood',BStype:'Median',bsCoordinates:'52.4768° N, 1.9702° W',bsAddress:'Bournemouth BH11 9UA'})\n",
      "CREATE(bs27:BusStop{bsName:'Marley',BStype:'Median',bsCoordinates:'51.2092° N, 1.1295° E',bsAddress:'New Milton BH25 5NP'})\n",
      "CREATE(bs28:BusStop{bsName:'Wimbourne',BStype:'Median',bsCoordinates:'50.8005° N, 1.9830° W',bsAddress:'Wimborne BH21 1JF'})\n"
     ]
    }
   ],
   "source": [
    "for i in bs.index:\n",
    "    j=str(i+1)\n",
    "    print(\"CREATE(bs\"+j+\":BusStop{bsName:'\"+bs.iloc[i,0]+\"',BStype:'\"+bs.iloc[i,1]+\"',bsCoordinates:'\"+bs.iloc[i,2]+\"',bsAddress:'\"+bs.iloc[i,3]+\"'})\")"
   ]
  },
  {
   "cell_type": "code",
   "execution_count": 136,
   "metadata": {
    "ExecuteTime": {
     "end_time": "2020-05-19T14:52:04.235709Z",
     "start_time": "2020-05-19T14:52:04.220949Z"
    }
   },
   "outputs": [],
   "source": [
    "r=pd.read_excel(\"ENTITY ROUTE.xlsx\")"
   ]
  },
  {
   "cell_type": "code",
   "execution_count": 137,
   "metadata": {
    "ExecuteTime": {
     "end_time": "2020-05-19T14:52:04.712450Z",
     "start_time": "2020-05-19T14:52:04.694238Z"
    }
   },
   "outputs": [
    {
     "data": {
      "text/html": [
       "<div>\n",
       "<style scoped>\n",
       "    .dataframe tbody tr th:only-of-type {\n",
       "        vertical-align: middle;\n",
       "    }\n",
       "\n",
       "    .dataframe tbody tr th {\n",
       "        vertical-align: top;\n",
       "    }\n",
       "\n",
       "    .dataframe thead th {\n",
       "        text-align: right;\n",
       "    }\n",
       "</style>\n",
       "<table border=\"1\" class=\"dataframe\">\n",
       "  <thead>\n",
       "    <tr style=\"text-align: right;\">\n",
       "      <th></th>\n",
       "      <th>Route Name</th>\n",
       "      <th>RouteLength</th>\n",
       "      <th>Via</th>\n",
       "    </tr>\n",
       "  </thead>\n",
       "  <tbody>\n",
       "    <tr>\n",
       "      <th>0</th>\n",
       "      <td>BAvMD</td>\n",
       "      <td>8</td>\n",
       "      <td>Moordown</td>\n",
       "    </tr>\n",
       "    <tr>\n",
       "      <th>1</th>\n",
       "      <td>BAvBC</td>\n",
       "      <td>9</td>\n",
       "      <td>Boscombe</td>\n",
       "    </tr>\n",
       "    <tr>\n",
       "      <th>2</th>\n",
       "      <td>BAvKN</td>\n",
       "      <td>10</td>\n",
       "      <td>Kinson</td>\n",
       "    </tr>\n",
       "    <tr>\n",
       "      <th>3</th>\n",
       "      <td>KNvWH</td>\n",
       "      <td>6</td>\n",
       "      <td>West Howe</td>\n",
       "    </tr>\n",
       "    <tr>\n",
       "      <th>4</th>\n",
       "      <td>KNvEH</td>\n",
       "      <td>6</td>\n",
       "      <td>East Howe</td>\n",
       "    </tr>\n",
       "    <tr>\n",
       "      <th>5</th>\n",
       "      <td>NMvIF</td>\n",
       "      <td>8</td>\n",
       "      <td>Iford</td>\n",
       "    </tr>\n",
       "    <tr>\n",
       "      <th>6</th>\n",
       "      <td>NMvSB</td>\n",
       "      <td>8</td>\n",
       "      <td>Southbourne</td>\n",
       "    </tr>\n",
       "    <tr>\n",
       "      <th>7</th>\n",
       "      <td>WBvBU</td>\n",
       "      <td>9</td>\n",
       "      <td>BU-Talbot campus</td>\n",
       "    </tr>\n",
       "    <tr>\n",
       "      <th>8</th>\n",
       "      <td>WBvEH</td>\n",
       "      <td>9</td>\n",
       "      <td>East Howe</td>\n",
       "    </tr>\n",
       "    <tr>\n",
       "      <th>9</th>\n",
       "      <td>WBvWH</td>\n",
       "      <td>10</td>\n",
       "      <td>West Howe</td>\n",
       "    </tr>\n",
       "  </tbody>\n",
       "</table>\n",
       "</div>"
      ],
      "text/plain": [
       "  Route Name  RouteLength               Via\n",
       "0      BAvMD            8          Moordown\n",
       "1      BAvBC            9          Boscombe\n",
       "2      BAvKN           10            Kinson\n",
       "3      KNvWH            6         West Howe\n",
       "4      KNvEH            6         East Howe\n",
       "5      NMvIF            8             Iford\n",
       "6      NMvSB            8       Southbourne\n",
       "7      WBvBU            9  BU-Talbot campus\n",
       "8      WBvEH            9         East Howe\n",
       "9      WBvWH           10         West Howe"
      ]
     },
     "execution_count": 137,
     "metadata": {},
     "output_type": "execute_result"
    }
   ],
   "source": [
    "r"
   ]
  },
  {
   "cell_type": "code",
   "execution_count": 138,
   "metadata": {
    "ExecuteTime": {
     "end_time": "2020-05-19T14:52:50.709309Z",
     "start_time": "2020-05-19T14:52:50.703030Z"
    }
   },
   "outputs": [],
   "source": [
    "r['RouteLength']=r['RouteLength'].astype('str')"
   ]
  },
  {
   "cell_type": "code",
   "execution_count": 141,
   "metadata": {
    "ExecuteTime": {
     "end_time": "2020-05-19T14:53:31.227524Z",
     "start_time": "2020-05-19T14:53:31.218383Z"
    },
    "scrolled": false
   },
   "outputs": [
    {
     "name": "stdout",
     "output_type": "stream",
     "text": [
      "CREATE(r1:Route{rName:'BAvMD',rLength:8,rVia:'Moordown'})\n",
      "CREATE(r2:Route{rName:'BAvBC',rLength:9,rVia:'Boscombe'})\n",
      "CREATE(r3:Route{rName:'BAvKN',rLength:10,rVia:'Kinson'})\n",
      "CREATE(r4:Route{rName:'KNvWH',rLength:6,rVia:'West Howe'})\n",
      "CREATE(r5:Route{rName:'KNvEH',rLength:6,rVia:'East Howe'})\n",
      "CREATE(r6:Route{rName:'NMvIF',rLength:8,rVia:'Iford'})\n",
      "CREATE(r7:Route{rName:'NMvSB',rLength:8,rVia:'Southbourne'})\n",
      "CREATE(r8:Route{rName:'WBvBU',rLength:9,rVia:'BU-Talbot campus'})\n",
      "CREATE(r9:Route{rName:'WBvEH',rLength:9,rVia:'East Howe'})\n",
      "CREATE(r10:Route{rName:'WBvWH',rLength:10,rVia:'West Howe'})\n"
     ]
    }
   ],
   "source": [
    "for i in r.index:\n",
    "    j=str(i+1)\n",
    "    print(\"CREATE(r\"+j+\":Route{rName:'\"+r.iloc[i,0]+\"',rLength:\"+r.iloc[i,1]+\",rVia:'\"+r.iloc[i,2]+\"'})\")"
   ]
  },
  {
   "cell_type": "code",
   "execution_count": 149,
   "metadata": {
    "ExecuteTime": {
     "end_time": "2020-05-19T16:46:53.742766Z",
     "start_time": "2020-05-19T16:46:53.727106Z"
    }
   },
   "outputs": [
    {
     "data": {
      "text/plain": [
       "[8, 9, 10, 6, 6, 8, 8, 9, 9, 10]"
      ]
     },
     "execution_count": 149,
     "metadata": {},
     "output_type": "execute_result"
    }
   ],
   "source": [
    "rb=list(r['RouteLength'].astype('int'))\n",
    "rb\n"
   ]
  },
  {
   "cell_type": "code",
   "execution_count": 152,
   "metadata": {
    "ExecuteTime": {
     "end_time": "2020-05-19T17:03:24.180903Z",
     "start_time": "2020-05-19T17:03:24.169933Z"
    }
   },
   "outputs": [
    {
     "name": "stdout",
     "output_type": "stream",
     "text": [
      "CREATE(r1)-[:HAS{StopTrackId:1}])->(bs)\n",
      "CREATE(r1)-[:HAS{StopTrackId:2}])->(bs)\n",
      "CREATE(r1)-[:HAS{StopTrackId:3}])->(bs)\n",
      "CREATE(r1)-[:HAS{StopTrackId:4}])->(bs)\n",
      "CREATE(r1)-[:HAS{StopTrackId:5}])->(bs)\n",
      "CREATE(r1)-[:HAS{StopTrackId:6}])->(bs)\n",
      "CREATE(r1)-[:HAS{StopTrackId:7}])->(bs)\n",
      "CREATE(r1)-[:HAS{StopTrackId:8}])->(bs)\n",
      "CREATE(r2)-[:HAS{StopTrackId:1}])->(bs)\n",
      "CREATE(r2)-[:HAS{StopTrackId:2}])->(bs)\n",
      "CREATE(r2)-[:HAS{StopTrackId:3}])->(bs)\n",
      "CREATE(r2)-[:HAS{StopTrackId:4}])->(bs)\n",
      "CREATE(r2)-[:HAS{StopTrackId:5}])->(bs)\n",
      "CREATE(r2)-[:HAS{StopTrackId:6}])->(bs)\n",
      "CREATE(r2)-[:HAS{StopTrackId:7}])->(bs)\n",
      "CREATE(r2)-[:HAS{StopTrackId:8}])->(bs)\n",
      "CREATE(r2)-[:HAS{StopTrackId:9}])->(bs)\n",
      "CREATE(r3)-[:HAS{StopTrackId:1}])->(bs)\n",
      "CREATE(r3)-[:HAS{StopTrackId:2}])->(bs)\n",
      "CREATE(r3)-[:HAS{StopTrackId:3}])->(bs)\n",
      "CREATE(r3)-[:HAS{StopTrackId:4}])->(bs)\n",
      "CREATE(r3)-[:HAS{StopTrackId:5}])->(bs)\n",
      "CREATE(r3)-[:HAS{StopTrackId:6}])->(bs)\n",
      "CREATE(r3)-[:HAS{StopTrackId:7}])->(bs)\n",
      "CREATE(r3)-[:HAS{StopTrackId:8}])->(bs)\n",
      "CREATE(r3)-[:HAS{StopTrackId:9}])->(bs)\n",
      "CREATE(r3)-[:HAS{StopTrackId:10}])->(bs)\n",
      "CREATE(r4)-[:HAS{StopTrackId:1}])->(bs)\n",
      "CREATE(r4)-[:HAS{StopTrackId:2}])->(bs)\n",
      "CREATE(r4)-[:HAS{StopTrackId:3}])->(bs)\n",
      "CREATE(r4)-[:HAS{StopTrackId:4}])->(bs)\n",
      "CREATE(r4)-[:HAS{StopTrackId:5}])->(bs)\n",
      "CREATE(r4)-[:HAS{StopTrackId:6}])->(bs)\n",
      "CREATE(r5)-[:HAS{StopTrackId:1}])->(bs)\n",
      "CREATE(r5)-[:HAS{StopTrackId:2}])->(bs)\n",
      "CREATE(r5)-[:HAS{StopTrackId:3}])->(bs)\n",
      "CREATE(r5)-[:HAS{StopTrackId:4}])->(bs)\n",
      "CREATE(r5)-[:HAS{StopTrackId:5}])->(bs)\n",
      "CREATE(r5)-[:HAS{StopTrackId:6}])->(bs)\n",
      "CREATE(r6)-[:HAS{StopTrackId:1}])->(bs)\n",
      "CREATE(r6)-[:HAS{StopTrackId:2}])->(bs)\n",
      "CREATE(r6)-[:HAS{StopTrackId:3}])->(bs)\n",
      "CREATE(r6)-[:HAS{StopTrackId:4}])->(bs)\n",
      "CREATE(r6)-[:HAS{StopTrackId:5}])->(bs)\n",
      "CREATE(r6)-[:HAS{StopTrackId:6}])->(bs)\n",
      "CREATE(r6)-[:HAS{StopTrackId:7}])->(bs)\n",
      "CREATE(r6)-[:HAS{StopTrackId:8}])->(bs)\n",
      "CREATE(r7)-[:HAS{StopTrackId:1}])->(bs)\n",
      "CREATE(r7)-[:HAS{StopTrackId:2}])->(bs)\n",
      "CREATE(r7)-[:HAS{StopTrackId:3}])->(bs)\n",
      "CREATE(r7)-[:HAS{StopTrackId:4}])->(bs)\n",
      "CREATE(r7)-[:HAS{StopTrackId:5}])->(bs)\n",
      "CREATE(r7)-[:HAS{StopTrackId:6}])->(bs)\n",
      "CREATE(r7)-[:HAS{StopTrackId:7}])->(bs)\n",
      "CREATE(r7)-[:HAS{StopTrackId:8}])->(bs)\n",
      "CREATE(r8)-[:HAS{StopTrackId:1}])->(bs)\n",
      "CREATE(r8)-[:HAS{StopTrackId:2}])->(bs)\n",
      "CREATE(r8)-[:HAS{StopTrackId:3}])->(bs)\n",
      "CREATE(r8)-[:HAS{StopTrackId:4}])->(bs)\n",
      "CREATE(r8)-[:HAS{StopTrackId:5}])->(bs)\n",
      "CREATE(r8)-[:HAS{StopTrackId:6}])->(bs)\n",
      "CREATE(r8)-[:HAS{StopTrackId:7}])->(bs)\n",
      "CREATE(r8)-[:HAS{StopTrackId:8}])->(bs)\n",
      "CREATE(r8)-[:HAS{StopTrackId:9}])->(bs)\n",
      "CREATE(r9)-[:HAS{StopTrackId:1}])->(bs)\n",
      "CREATE(r9)-[:HAS{StopTrackId:2}])->(bs)\n",
      "CREATE(r9)-[:HAS{StopTrackId:3}])->(bs)\n",
      "CREATE(r9)-[:HAS{StopTrackId:4}])->(bs)\n",
      "CREATE(r9)-[:HAS{StopTrackId:5}])->(bs)\n",
      "CREATE(r9)-[:HAS{StopTrackId:6}])->(bs)\n",
      "CREATE(r9)-[:HAS{StopTrackId:7}])->(bs)\n",
      "CREATE(r9)-[:HAS{StopTrackId:8}])->(bs)\n",
      "CREATE(r9)-[:HAS{StopTrackId:9}])->(bs)\n",
      "CREATE(r10)-[:HAS{StopTrackId:1}])->(bs)\n",
      "CREATE(r10)-[:HAS{StopTrackId:2}])->(bs)\n",
      "CREATE(r10)-[:HAS{StopTrackId:3}])->(bs)\n",
      "CREATE(r10)-[:HAS{StopTrackId:4}])->(bs)\n",
      "CREATE(r10)-[:HAS{StopTrackId:5}])->(bs)\n",
      "CREATE(r10)-[:HAS{StopTrackId:6}])->(bs)\n",
      "CREATE(r10)-[:HAS{StopTrackId:7}])->(bs)\n",
      "CREATE(r10)-[:HAS{StopTrackId:8}])->(bs)\n",
      "CREATE(r10)-[:HAS{StopTrackId:9}])->(bs)\n",
      "CREATE(r10)-[:HAS{StopTrackId:10}])->(bs)\n"
     ]
    }
   ],
   "source": [
    "for i in r.index:\n",
    "    k=str(i+1)\n",
    "    for j in range(0,rb[i]):\n",
    "        l=str(j+1)\n",
    "        print(\"CREATE(r\"+k+\")-[:HAS{StopTrackId:\"+l+\"}])->(bs)\")"
   ]
  },
  {
   "cell_type": "code",
   "execution_count": null,
   "metadata": {},
   "outputs": [],
   "source": []
  }
 ],
 "metadata": {
  "hide_input": false,
  "kernelspec": {
   "display_name": "Python 3",
   "language": "python",
   "name": "python3"
  },
  "language_info": {
   "codemirror_mode": {
    "name": "ipython",
    "version": 3
   },
   "file_extension": ".py",
   "mimetype": "text/x-python",
   "name": "python",
   "nbconvert_exporter": "python",
   "pygments_lexer": "ipython3",
   "version": "3.6.10"
  },
  "toc": {
   "base_numbering": 1,
   "nav_menu": {},
   "number_sections": true,
   "sideBar": true,
   "skip_h1_title": false,
   "title_cell": "Table of Contents",
   "title_sidebar": "Contents",
   "toc_cell": false,
   "toc_position": {},
   "toc_section_display": true,
   "toc_window_display": false
  }
 },
 "nbformat": 4,
 "nbformat_minor": 2
}
